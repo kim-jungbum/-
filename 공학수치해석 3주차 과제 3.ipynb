{
 "cells": [
  {
   "cell_type": "code",
   "execution_count": 38,
   "id": "e9546b9d",
   "metadata": {},
   "outputs": [
    {
     "name": "stdout",
     "output_type": "stream",
     "text": [
      "값 : 0.332000732421875, 해 : 3.581937642915811e-05, 임계값 : 0.009192021325489476, 반복횟수 : 14\n"
     ]
    },
    {
     "name": "stderr",
     "output_type": "stream",
     "text": [
      "/var/folders/0_/c98v9s0s2h38hgv5ngs98b380000gn/T/ipykernel_12382/1903769019.py:21: DeprecationWarning: `np.float` is a deprecated alias for the builtin `float`. To silence this warning, use `float` by itself. Doing this will not modify any behavior and is safe. If you specifically wanted the numpy scalar type, use `np.float64` here.\n",
      "Deprecated in NumPy 1.20; for more details and guidance: https://numpy.org/devdocs/release/1.20.0-notes.html#deprecations\n",
      "  xnew = np.float((x1 + x2) / 2)\n",
      "/var/folders/0_/c98v9s0s2h38hgv5ngs98b380000gn/T/ipykernel_12382/1903769019.py:25: DeprecationWarning: `np.float` is a deprecated alias for the builtin `float`. To silence this warning, use `float` by itself. Doing this will not modify any behavior and is safe. If you specifically wanted the numpy scalar type, use `np.float64` here.\n",
      "Deprecated in NumPy 1.20; for more details and guidance: https://numpy.org/devdocs/release/1.20.0-notes.html#deprecations\n",
      "  Er = np.float(np.abs((np.float(xnew) - np.float(xold))/np.float(xnew))*100)\n",
      "/var/folders/0_/c98v9s0s2h38hgv5ngs98b380000gn/T/ipykernel_12382/1903769019.py:35: DeprecationWarning: `np.int` is a deprecated alias for the builtin `int`. To silence this warning, use `int` by itself. Doing this will not modify any behavior and is safe. When replacing `np.int`, you may wish to use e.g. `np.int64` or `np.int32` to specify the precision. If you wish to review your current use, check the release note link for additional information.\n",
      "Deprecated in NumPy 1.20; for more details and guidance: https://numpy.org/devdocs/release/1.20.0-notes.html#deprecations\n",
      "  if np.int(Er < es) | np.int(iter >= maxim):\n"
     ]
    }
   ],
   "source": [
    "import numpy as np\n",
    "\n",
    "func=lambda x: x**5 + 3*x - 1\n",
    "\n",
    "def bisect(func, x1, x2):\n",
    "    maxim = 100\n",
    "    es = 0.01\n",
    "    iter = -1      # 반복 카운터 (처음의 경우는 카운트하지않으므로 -1대입)\n",
    "    xnew = x1\n",
    "    Er = 100\n",
    "\n",
    "    val = func(x1) * func(x2)\n",
    "  \n",
    "    if val > 0:\n",
    "        print(\"f(x1)*f(x2)가 양수로 계산이 불가능\")\n",
    "        return [], [], [], []\n",
    "    \n",
    "    while True:\n",
    "\n",
    "        xold = xnew\n",
    "        xnew = np.float((x1 + x2) / 2)\n",
    "        iter = iter + 1\n",
    "\n",
    "        if xnew != 0:\n",
    "            Er = np.float(np.abs((np.float(xnew) - np.float(xold))/np.float(xnew))*100)\n",
    "        val = func(x1) * func(xnew)\n",
    "\n",
    "        if val > 0:\n",
    "            x1 = xnew\n",
    "        elif val < 0:\n",
    "            x2 = xnew\n",
    "        else:\n",
    "            Er = 0\n",
    "\n",
    "        if np.int(Er < es) | np.int(iter >= maxim):\n",
    "            break\n",
    "    \n",
    "    value = func(xnew)\n",
    "    \n",
    "    return print('값 : {0}, 해 : {1}, 임계값 : {2}, 반복횟수 : {3}'.format(xnew,value,Er,iter))\n",
    "\n",
    "bisect(func,0,1)\n"
   ]
  }
 ],
 "metadata": {
  "kernelspec": {
   "display_name": "Python 3 (ipykernel)",
   "language": "python",
   "name": "python3"
  },
  "language_info": {
   "codemirror_mode": {
    "name": "ipython",
    "version": 3
   },
   "file_extension": ".py",
   "mimetype": "text/x-python",
   "name": "python",
   "nbconvert_exporter": "python",
   "pygments_lexer": "ipython3",
   "version": "3.9.7"
  }
 },
 "nbformat": 4,
 "nbformat_minor": 5
}
